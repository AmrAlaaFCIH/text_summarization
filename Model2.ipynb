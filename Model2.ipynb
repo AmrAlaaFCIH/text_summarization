{
  "nbformat": 4,
  "nbformat_minor": 0,
  "metadata": {
    "colab": {
      "name": "Model2.ipynb",
      "provenance": [],
      "mount_file_id": "1grokJpQrFm_Fofx5K_ouR1oUWhFY4C_9",
      "authorship_tag": "ABX9TyN/wQf6E9BWqagHjVc0rJZi",
      "include_colab_link": true
    },
    "kernelspec": {
      "name": "python3",
      "display_name": "Python 3"
    },
    "language_info": {
      "name": "python"
    },
    "accelerator": "GPU"
  },
  "cells": [
    {
      "cell_type": "markdown",
      "metadata": {
        "id": "view-in-github",
        "colab_type": "text"
      },
      "source": [
        "<a href=\"https://colab.research.google.com/github/AmrAlaaFCIH/text_summarization/blob/main/Model2.ipynb\" target=\"_parent\"><img src=\"https://colab.research.google.com/assets/colab-badge.svg\" alt=\"Open In Colab\"/></a>"
      ]
    },
    {
      "cell_type": "code",
      "execution_count": null,
      "metadata": {
        "colab": {
          "base_uri": "https://localhost:8080/"
        },
        "id": "7MibapDzJiW3",
        "outputId": "8bffd956-8b44-45f1-a1b1-5f775d5bd213"
      },
      "outputs": [
        {
          "output_type": "stream",
          "name": "stdout",
          "text": [
            "/content/drive/MyDrive/NLP\n"
          ]
        }
      ],
      "source": [
        "cd /content/drive/MyDrive/NLP"
      ]
    },
    {
      "cell_type": "code",
      "source": [
        "import pandas as pd"
      ],
      "metadata": {
        "id": "DhFiqs0XMnHE"
      },
      "execution_count": null,
      "outputs": []
    },
    {
      "cell_type": "code",
      "source": [
        "df=pd.read_csv(\"Final_dataset.csv\")"
      ],
      "metadata": {
        "id": "hlGwl_mYrDqG"
      },
      "execution_count": null,
      "outputs": []
    },
    {
      "cell_type": "code",
      "source": [
        "df.head()"
      ],
      "metadata": {
        "colab": {
          "base_uri": "https://localhost:8080/",
          "height": 1207
        },
        "id": "c_S7X7i8ONIT",
        "outputId": "8ae42a7d-476b-4324-c2dc-28c26d612501"
      },
      "execution_count": null,
      "outputs": [
        {
          "output_type": "execute_result",
          "data": {
            "text/plain": [
              "   Unnamed: 0                                        description  \\\n",
              "0           0  تجددت المعارك اليوم الجمعة بمحيط العاصمة الليب...   \n",
              "1           1  كشف الفنان والمقاول المصري المعارض محمد علي عن...   \n",
              "2           2  شهدت تركيا اليوم الجمعة الإعلان رسميا عن ميلاد...   \n",
              "3           3  عززت السلطات الهندية اليوم الجمعة إجراءات الأم...   \n",
              "4           4  احتشد آلاف المسلمين في عدد من الدول الإسلامية ...   \n",
              "\n",
              "                                             content  \n",
              "0  تجددت المعارك اليوم الجمعة بمحيط العاصمة الليب...  \n",
              "1  عبد الرحمن محمد-الجزيرة نت كشف الفنان والمقاول...  \n",
              "2  خليل مبروك-إسطنبول شهدت تركيا اليوم الجمعة الإ...  \n",
              "3  عززت السلطات الهندية اليوم الجمعة إجراءات الأم...  \n",
              "4  احتشد آلاف المسلمين في عدد من الدول الإسلامية ...  "
            ],
            "text/html": [
              "\n",
              "  <div id=\"df-024a913b-92d5-46c2-afef-12ea9f532be3\">\n",
              "    <div class=\"colab-df-container\">\n",
              "      <div>\n",
              "<style scoped>\n",
              "    .dataframe tbody tr th:only-of-type {\n",
              "        vertical-align: middle;\n",
              "    }\n",
              "\n",
              "    .dataframe tbody tr th {\n",
              "        vertical-align: top;\n",
              "    }\n",
              "\n",
              "    .dataframe thead th {\n",
              "        text-align: right;\n",
              "    }\n",
              "</style>\n",
              "<table border=\"1\" class=\"dataframe\">\n",
              "  <thead>\n",
              "    <tr style=\"text-align: right;\">\n",
              "      <th></th>\n",
              "      <th>Unnamed: 0</th>\n",
              "      <th>description</th>\n",
              "      <th>content</th>\n",
              "    </tr>\n",
              "  </thead>\n",
              "  <tbody>\n",
              "    <tr>\n",
              "      <th>0</th>\n",
              "      <td>0</td>\n",
              "      <td>تجددت المعارك اليوم الجمعة بمحيط العاصمة الليب...</td>\n",
              "      <td>تجددت المعارك اليوم الجمعة بمحيط العاصمة الليب...</td>\n",
              "    </tr>\n",
              "    <tr>\n",
              "      <th>1</th>\n",
              "      <td>1</td>\n",
              "      <td>كشف الفنان والمقاول المصري المعارض محمد علي عن...</td>\n",
              "      <td>عبد الرحمن محمد-الجزيرة نت كشف الفنان والمقاول...</td>\n",
              "    </tr>\n",
              "    <tr>\n",
              "      <th>2</th>\n",
              "      <td>2</td>\n",
              "      <td>شهدت تركيا اليوم الجمعة الإعلان رسميا عن ميلاد...</td>\n",
              "      <td>خليل مبروك-إسطنبول شهدت تركيا اليوم الجمعة الإ...</td>\n",
              "    </tr>\n",
              "    <tr>\n",
              "      <th>3</th>\n",
              "      <td>3</td>\n",
              "      <td>عززت السلطات الهندية اليوم الجمعة إجراءات الأم...</td>\n",
              "      <td>عززت السلطات الهندية اليوم الجمعة إجراءات الأم...</td>\n",
              "    </tr>\n",
              "    <tr>\n",
              "      <th>4</th>\n",
              "      <td>4</td>\n",
              "      <td>احتشد آلاف المسلمين في عدد من الدول الإسلامية ...</td>\n",
              "      <td>احتشد آلاف المسلمين في عدد من الدول الإسلامية ...</td>\n",
              "    </tr>\n",
              "  </tbody>\n",
              "</table>\n",
              "</div>\n",
              "      <button class=\"colab-df-convert\" onclick=\"convertToInteractive('df-024a913b-92d5-46c2-afef-12ea9f532be3')\"\n",
              "              title=\"Convert this dataframe to an interactive table.\"\n",
              "              style=\"display:none;\">\n",
              "        \n",
              "  <svg xmlns=\"http://www.w3.org/2000/svg\" height=\"24px\"viewBox=\"0 0 24 24\"\n",
              "       width=\"24px\">\n",
              "    <path d=\"M0 0h24v24H0V0z\" fill=\"none\"/>\n",
              "    <path d=\"M18.56 5.44l.94 2.06.94-2.06 2.06-.94-2.06-.94-.94-2.06-.94 2.06-2.06.94zm-11 1L8.5 8.5l.94-2.06 2.06-.94-2.06-.94L8.5 2.5l-.94 2.06-2.06.94zm10 10l.94 2.06.94-2.06 2.06-.94-2.06-.94-.94-2.06-.94 2.06-2.06.94z\"/><path d=\"M17.41 7.96l-1.37-1.37c-.4-.4-.92-.59-1.43-.59-.52 0-1.04.2-1.43.59L10.3 9.45l-7.72 7.72c-.78.78-.78 2.05 0 2.83L4 21.41c.39.39.9.59 1.41.59.51 0 1.02-.2 1.41-.59l7.78-7.78 2.81-2.81c.8-.78.8-2.07 0-2.86zM5.41 20L4 18.59l7.72-7.72 1.47 1.35L5.41 20z\"/>\n",
              "  </svg>\n",
              "      </button>\n",
              "      \n",
              "  <style>\n",
              "    .colab-df-container {\n",
              "      display:flex;\n",
              "      flex-wrap:wrap;\n",
              "      gap: 12px;\n",
              "    }\n",
              "\n",
              "    .colab-df-convert {\n",
              "      background-color: #E8F0FE;\n",
              "      border: none;\n",
              "      border-radius: 50%;\n",
              "      cursor: pointer;\n",
              "      display: none;\n",
              "      fill: #1967D2;\n",
              "      height: 32px;\n",
              "      padding: 0 0 0 0;\n",
              "      width: 32px;\n",
              "    }\n",
              "\n",
              "    .colab-df-convert:hover {\n",
              "      background-color: #E2EBFA;\n",
              "      box-shadow: 0px 1px 2px rgba(60, 64, 67, 0.3), 0px 1px 3px 1px rgba(60, 64, 67, 0.15);\n",
              "      fill: #174EA6;\n",
              "    }\n",
              "\n",
              "    [theme=dark] .colab-df-convert {\n",
              "      background-color: #3B4455;\n",
              "      fill: #D2E3FC;\n",
              "    }\n",
              "\n",
              "    [theme=dark] .colab-df-convert:hover {\n",
              "      background-color: #434B5C;\n",
              "      box-shadow: 0px 1px 3px 1px rgba(0, 0, 0, 0.15);\n",
              "      filter: drop-shadow(0px 1px 2px rgba(0, 0, 0, 0.3));\n",
              "      fill: #FFFFFF;\n",
              "    }\n",
              "  </style>\n",
              "\n",
              "      <script>\n",
              "        const buttonEl =\n",
              "          document.querySelector('#df-024a913b-92d5-46c2-afef-12ea9f532be3 button.colab-df-convert');\n",
              "        buttonEl.style.display =\n",
              "          google.colab.kernel.accessAllowed ? 'block' : 'none';\n",
              "\n",
              "        async function convertToInteractive(key) {\n",
              "          const element = document.querySelector('#df-024a913b-92d5-46c2-afef-12ea9f532be3');\n",
              "          const dataTable =\n",
              "            await google.colab.kernel.invokeFunction('convertToInteractive',\n",
              "                                                     [key], {});\n",
              "          if (!dataTable) return;\n",
              "\n",
              "          const docLinkHtml = 'Like what you see? Visit the ' +\n",
              "            '<a target=\"_blank\" href=https://colab.research.google.com/notebooks/data_table.ipynb>data table notebook</a>'\n",
              "            + ' to learn more about interactive tables.';\n",
              "          element.innerHTML = '';\n",
              "          dataTable['output_type'] = 'display_data';\n",
              "          await google.colab.output.renderOutput(dataTable, element);\n",
              "          const docLink = document.createElement('div');\n",
              "          docLink.innerHTML = docLinkHtml;\n",
              "          element.appendChild(docLink);\n",
              "        }\n",
              "      </script>\n",
              "    </div>\n",
              "  </div>\n",
              "  "
            ]
          },
          "metadata": {},
          "execution_count": 6
        }
      ]
    },
    {
      "cell_type": "code",
      "source": [
        "df.drop(columns=\"Unnamed: 0\",inplace=True)"
      ],
      "metadata": {
        "id": "8fiPPg7nOTI7"
      },
      "execution_count": null,
      "outputs": []
    },
    {
      "cell_type": "code",
      "source": [
        "df.head()"
      ],
      "metadata": {
        "colab": {
          "base_uri": "https://localhost:8080/",
          "height": 1124
        },
        "id": "pZUVR1bFOpyc",
        "outputId": "719d06c0-db9e-42da-ccb6-63b29563c71b"
      },
      "execution_count": null,
      "outputs": [
        {
          "output_type": "execute_result",
          "data": {
            "text/plain": [
              "                                         description  \\\n",
              "0  تجددت المعارك اليوم الجمعة بمحيط العاصمة الليب...   \n",
              "1  كشف الفنان والمقاول المصري المعارض محمد علي عن...   \n",
              "2  شهدت تركيا اليوم الجمعة الإعلان رسميا عن ميلاد...   \n",
              "3  عززت السلطات الهندية اليوم الجمعة إجراءات الأم...   \n",
              "4  احتشد آلاف المسلمين في عدد من الدول الإسلامية ...   \n",
              "\n",
              "                                             content  \n",
              "0  تجددت المعارك اليوم الجمعة بمحيط العاصمة الليب...  \n",
              "1  عبد الرحمن محمد-الجزيرة نت كشف الفنان والمقاول...  \n",
              "2  خليل مبروك-إسطنبول شهدت تركيا اليوم الجمعة الإ...  \n",
              "3  عززت السلطات الهندية اليوم الجمعة إجراءات الأم...  \n",
              "4  احتشد آلاف المسلمين في عدد من الدول الإسلامية ...  "
            ],
            "text/html": [
              "\n",
              "  <div id=\"df-50267ef9-6257-45f1-acfb-297ac8bd4784\">\n",
              "    <div class=\"colab-df-container\">\n",
              "      <div>\n",
              "<style scoped>\n",
              "    .dataframe tbody tr th:only-of-type {\n",
              "        vertical-align: middle;\n",
              "    }\n",
              "\n",
              "    .dataframe tbody tr th {\n",
              "        vertical-align: top;\n",
              "    }\n",
              "\n",
              "    .dataframe thead th {\n",
              "        text-align: right;\n",
              "    }\n",
              "</style>\n",
              "<table border=\"1\" class=\"dataframe\">\n",
              "  <thead>\n",
              "    <tr style=\"text-align: right;\">\n",
              "      <th></th>\n",
              "      <th>description</th>\n",
              "      <th>content</th>\n",
              "    </tr>\n",
              "  </thead>\n",
              "  <tbody>\n",
              "    <tr>\n",
              "      <th>0</th>\n",
              "      <td>تجددت المعارك اليوم الجمعة بمحيط العاصمة الليب...</td>\n",
              "      <td>تجددت المعارك اليوم الجمعة بمحيط العاصمة الليب...</td>\n",
              "    </tr>\n",
              "    <tr>\n",
              "      <th>1</th>\n",
              "      <td>كشف الفنان والمقاول المصري المعارض محمد علي عن...</td>\n",
              "      <td>عبد الرحمن محمد-الجزيرة نت كشف الفنان والمقاول...</td>\n",
              "    </tr>\n",
              "    <tr>\n",
              "      <th>2</th>\n",
              "      <td>شهدت تركيا اليوم الجمعة الإعلان رسميا عن ميلاد...</td>\n",
              "      <td>خليل مبروك-إسطنبول شهدت تركيا اليوم الجمعة الإ...</td>\n",
              "    </tr>\n",
              "    <tr>\n",
              "      <th>3</th>\n",
              "      <td>عززت السلطات الهندية اليوم الجمعة إجراءات الأم...</td>\n",
              "      <td>عززت السلطات الهندية اليوم الجمعة إجراءات الأم...</td>\n",
              "    </tr>\n",
              "    <tr>\n",
              "      <th>4</th>\n",
              "      <td>احتشد آلاف المسلمين في عدد من الدول الإسلامية ...</td>\n",
              "      <td>احتشد آلاف المسلمين في عدد من الدول الإسلامية ...</td>\n",
              "    </tr>\n",
              "  </tbody>\n",
              "</table>\n",
              "</div>\n",
              "      <button class=\"colab-df-convert\" onclick=\"convertToInteractive('df-50267ef9-6257-45f1-acfb-297ac8bd4784')\"\n",
              "              title=\"Convert this dataframe to an interactive table.\"\n",
              "              style=\"display:none;\">\n",
              "        \n",
              "  <svg xmlns=\"http://www.w3.org/2000/svg\" height=\"24px\"viewBox=\"0 0 24 24\"\n",
              "       width=\"24px\">\n",
              "    <path d=\"M0 0h24v24H0V0z\" fill=\"none\"/>\n",
              "    <path d=\"M18.56 5.44l.94 2.06.94-2.06 2.06-.94-2.06-.94-.94-2.06-.94 2.06-2.06.94zm-11 1L8.5 8.5l.94-2.06 2.06-.94-2.06-.94L8.5 2.5l-.94 2.06-2.06.94zm10 10l.94 2.06.94-2.06 2.06-.94-2.06-.94-.94-2.06-.94 2.06-2.06.94z\"/><path d=\"M17.41 7.96l-1.37-1.37c-.4-.4-.92-.59-1.43-.59-.52 0-1.04.2-1.43.59L10.3 9.45l-7.72 7.72c-.78.78-.78 2.05 0 2.83L4 21.41c.39.39.9.59 1.41.59.51 0 1.02-.2 1.41-.59l7.78-7.78 2.81-2.81c.8-.78.8-2.07 0-2.86zM5.41 20L4 18.59l7.72-7.72 1.47 1.35L5.41 20z\"/>\n",
              "  </svg>\n",
              "      </button>\n",
              "      \n",
              "  <style>\n",
              "    .colab-df-container {\n",
              "      display:flex;\n",
              "      flex-wrap:wrap;\n",
              "      gap: 12px;\n",
              "    }\n",
              "\n",
              "    .colab-df-convert {\n",
              "      background-color: #E8F0FE;\n",
              "      border: none;\n",
              "      border-radius: 50%;\n",
              "      cursor: pointer;\n",
              "      display: none;\n",
              "      fill: #1967D2;\n",
              "      height: 32px;\n",
              "      padding: 0 0 0 0;\n",
              "      width: 32px;\n",
              "    }\n",
              "\n",
              "    .colab-df-convert:hover {\n",
              "      background-color: #E2EBFA;\n",
              "      box-shadow: 0px 1px 2px rgba(60, 64, 67, 0.3), 0px 1px 3px 1px rgba(60, 64, 67, 0.15);\n",
              "      fill: #174EA6;\n",
              "    }\n",
              "\n",
              "    [theme=dark] .colab-df-convert {\n",
              "      background-color: #3B4455;\n",
              "      fill: #D2E3FC;\n",
              "    }\n",
              "\n",
              "    [theme=dark] .colab-df-convert:hover {\n",
              "      background-color: #434B5C;\n",
              "      box-shadow: 0px 1px 3px 1px rgba(0, 0, 0, 0.15);\n",
              "      filter: drop-shadow(0px 1px 2px rgba(0, 0, 0, 0.3));\n",
              "      fill: #FFFFFF;\n",
              "    }\n",
              "  </style>\n",
              "\n",
              "      <script>\n",
              "        const buttonEl =\n",
              "          document.querySelector('#df-50267ef9-6257-45f1-acfb-297ac8bd4784 button.colab-df-convert');\n",
              "        buttonEl.style.display =\n",
              "          google.colab.kernel.accessAllowed ? 'block' : 'none';\n",
              "\n",
              "        async function convertToInteractive(key) {\n",
              "          const element = document.querySelector('#df-50267ef9-6257-45f1-acfb-297ac8bd4784');\n",
              "          const dataTable =\n",
              "            await google.colab.kernel.invokeFunction('convertToInteractive',\n",
              "                                                     [key], {});\n",
              "          if (!dataTable) return;\n",
              "\n",
              "          const docLinkHtml = 'Like what you see? Visit the ' +\n",
              "            '<a target=\"_blank\" href=https://colab.research.google.com/notebooks/data_table.ipynb>data table notebook</a>'\n",
              "            + ' to learn more about interactive tables.';\n",
              "          element.innerHTML = '';\n",
              "          dataTable['output_type'] = 'display_data';\n",
              "          await google.colab.output.renderOutput(dataTable, element);\n",
              "          const docLink = document.createElement('div');\n",
              "          docLink.innerHTML = docLinkHtml;\n",
              "          element.appendChild(docLink);\n",
              "        }\n",
              "      </script>\n",
              "    </div>\n",
              "  </div>\n",
              "  "
            ]
          },
          "metadata": {},
          "execution_count": 8
        }
      ]
    },
    {
      "cell_type": "code",
      "source": [
        "df[\"content\"]=df[\"content\"].str.replace('\\s{2,}|[0-9]{5,}|[A-Za-z]+[0-9a-zA-z|-]+','',regex=True).str.replace('\\n',' ')"
      ],
      "metadata": {
        "id": "sYtmniq9Oqvq"
      },
      "execution_count": null,
      "outputs": []
    },
    {
      "cell_type": "code",
      "source": [
        "import re"
      ],
      "metadata": {
        "id": "sj-ShL8CPT3u"
      },
      "execution_count": null,
      "outputs": []
    },
    {
      "cell_type": "code",
      "source": [
        "re.findall('[A-Za-z]+[0-9a-zA-z|-]+',df[\"content\"][3])"
      ],
      "metadata": {
        "colab": {
          "base_uri": "https://localhost:8080/"
        },
        "id": "ni9IZ5e_P1Zl",
        "outputId": "5298cda4-9eaf-4309-90d5-8af64eeb3806"
      },
      "execution_count": null,
      "outputs": [
        {
          "output_type": "execute_result",
          "data": {
            "text/plain": [
              "['ad90812-094b-4f4d-aaaf-abad0355ca5b',\n",
              " 'd7705763-1618-4c46-aa57-623241fbf81b',\n",
              " 'video']"
            ]
          },
          "metadata": {},
          "execution_count": 22
        }
      ]
    },
    {
      "cell_type": "code",
      "source": [
        "print(df[\"content\"][3])"
      ],
      "metadata": {
        "colab": {
          "base_uri": "https://localhost:8080/"
        },
        "id": "j_av1Yu7P89a",
        "outputId": "f19538f8-72de-481d-cfa9-d5489321781d"
      },
      "execution_count": null,
      "outputs": [
        {
          "output_type": "stream",
          "name": "stdout",
          "text": [
            "عززت السلطات الهندية اليوم الجمعة إجراءات الأمن في المدن الكبرى، وفي الوقت\n",
            "نفسه ارتفع عدد القتلى والمعتقلين بين المسلمين الغاضبين من قانون جديد يخول\n",
            "الحكومة منح الجنسية لأتباع ديانات ليس بينها الإسلام، ينتمون للدول المجاورة.\n",
            "وبينما تواصلت الاحتجاجات في أنحاء مختلفة، أفادت التقارير بأن ما لا يقل عن 25\n",
            "شخصا قتلوا منذ الموافقة على القانون في 11 ديسمبر/كانون الأول الجاري. ويرى\n",
            "الكثير من الهنود أن هذا القانون ينطوي على تمييز ضد المسلمين. ونقلت رويترز أن\n",
            "رد الفعل العنيف ضد القانون هو التحدي الأكبر الذي يواجهه رئيس الوزراء ناريندرا\n",
            "مودي منذ انتخابه لأول مرة عام 2014. ومع توقع اندلاع المزيد من الاحتجاجات هذا\n",
            "الأسبوع، قطعت الحكومة خدمات الإنترنت عبر الهاتف المحمول في الكثير من المناطق.\n",
            "حشود طوارئ وجرى تنظيم مظاهرات جديدة اليوم في العديد من المدن بينها مومباي\n",
            "المركز المالي في البلاد. وفي العاصمة نيودلهي، احتشد عدد كبير من الأشخاص\n",
            "للتظاهر ضد القانون، في مسجد جاما الرئيسي بالمدينة، وفي موقع مخصص للتظاهر يحمل\n",
            "اسم \"جانتار مانتار\". وذكرت قنوات تلفزيونية أن الشرطة فرضت قانون الطوارئ في بعض\n",
            "أجزاء من نيودلهي وحظرت التجمعات الكبيرة. وقال المتحدث باسم شرطة نيودلهي \"جرى\n",
            "نشر العديد من فرق الشرطة في مناطق حساسة بدلهي، وجارٍ مراقبة مواقع التواصل\n",
            "الاجتماعي لفحص وجود إشاعات\". وأوضح قائد شرطة مدينة ميروت بولاية أوتار براديش\n",
            "القريبة من دلهي أنه تم نشر ما يقرب من ثلاثة آلاف شرطي لفرض النظام. وقتل بهذه\n",
            "المدينة خمسة أشخاص على الأقل يوم الجمعة الماضي. حملة اعتقالاتوقد ارتفع عدد\n",
            "المعتقلين بسبب المظاهرات في أوتار براديش إلى 1113 وعدد الموقوفين إلى 5558\n",
            "شخصًا. وقال رئيس شرطة الولاية \"جرى وضع النظام العام تحت السيطرة التامة،\n",
            "وسنواصل النشر الإستراتيجي للقوات\". وأمس أعلنت السلطات هناك حالة التأهب القصوى،\n",
            "وشددت إجراءاتها الأمنية مع قطع جزئي للإنترنت بعدة مناطق، تحسبا لاحتجاجات بعد\n",
            "صلاة الجمعة. 6117646965001 0ad90812-094b-4f4d-aaaf-abad0355ca5b\n",
            "d7705763-1618-4c46-aa57-623241fbf81b video وذكرت قناة \"أن دي تي في\" المحلية أن\n",
            "التقارير الأخيرة تشير إلى أن حكومة الولاية وضعتها في حالة تأهب قصوى، وعلقت\n",
            "الاتصال بشبكة الإنترنت في ثماني مقاطعات. ونقلت وكالة الأنباء الهندية عن نائب\n",
            "مدير عام الشرطة لشؤون القانون والنظام قوله \"قمنا بنشر أفراد الأمن بمناطق\n",
            "مختلفة من الولاية وعقدنا محادثات مع الناس\". وأضاف \"تم تعليق خدمات الإنترنت في\n",
            "ثماني مقاطعات ليوم واحد، ونراقب أيضًا المحتوى على وسائل التواصل الاجتماعي\".\n",
            "انتهاك الدستوروتتواصل الاحتجاجات في مختلف أنحاء البلاد تنديدًا بقانون الجنسية\n",
            "المثير للجدل الذي أقره البرلمان في وقت سابق من الشهر الجاري. ويرى المحتجون\n",
            "وسياسيون معارضون داخل البرلمان أن مشروع القانون يعد تمييزا ضد المسلمين، وينتهك\n",
            "الدستور العلماني الهندي. ويشكل المسلمون نحو 14% من التعداد السكاني الهندي\n",
            "البالغ 1.3 مليار نسمة. ويتيح القانون لأقليات غير مسلمة انتقلت إلى الهند قبل\n",
            "عام 2015 الحصول الجنسية، وقدِم هؤلاء من أفغانستان وبنغلاديش وباكستان.\n",
            "\n",
            "\n"
          ]
        }
      ]
    },
    {
      "cell_type": "code",
      "source": [
        "df.head(5)"
      ],
      "metadata": {
        "colab": {
          "base_uri": "https://localhost:8080/",
          "height": 1108
        },
        "id": "4adhHHb0QY8q",
        "outputId": "f6454888-2402-4512-ace1-8af8f920310f"
      },
      "execution_count": null,
      "outputs": [
        {
          "output_type": "execute_result",
          "data": {
            "text/plain": [
              "                                         description  \\\n",
              "0  تجددت المعارك اليوم الجمعة بمحيط العاصمة الليب...   \n",
              "1  كشف الفنان والمقاول المصري المعارض محمد علي عن...   \n",
              "2  شهدت تركيا اليوم الجمعة الإعلان رسميا عن ميلاد...   \n",
              "3  عززت السلطات الهندية اليوم الجمعة إجراءات الأم...   \n",
              "4  احتشد آلاف المسلمين في عدد من الدول الإسلامية ...   \n",
              "\n",
              "                                             content  \n",
              "0  تجددت المعارك اليوم الجمعة بمحيط العاصمة الليب...  \n",
              "1  عبد الرحمن محمد-الجزيرة نت كشف الفنان والمقاول...  \n",
              "2  خليل مبروك-إسطنبول شهدت تركيا اليوم الجمعة الإ...  \n",
              "3  عززت السلطات الهندية اليوم الجمعة إجراءات الأم...  \n",
              "4  احتشد آلاف المسلمين في عدد من الدول الإسلامية ...  "
            ],
            "text/html": [
              "\n",
              "  <div id=\"df-b936d59d-4f3a-42da-b2ae-e29596ec0f38\">\n",
              "    <div class=\"colab-df-container\">\n",
              "      <div>\n",
              "<style scoped>\n",
              "    .dataframe tbody tr th:only-of-type {\n",
              "        vertical-align: middle;\n",
              "    }\n",
              "\n",
              "    .dataframe tbody tr th {\n",
              "        vertical-align: top;\n",
              "    }\n",
              "\n",
              "    .dataframe thead th {\n",
              "        text-align: right;\n",
              "    }\n",
              "</style>\n",
              "<table border=\"1\" class=\"dataframe\">\n",
              "  <thead>\n",
              "    <tr style=\"text-align: right;\">\n",
              "      <th></th>\n",
              "      <th>description</th>\n",
              "      <th>content</th>\n",
              "    </tr>\n",
              "  </thead>\n",
              "  <tbody>\n",
              "    <tr>\n",
              "      <th>0</th>\n",
              "      <td>تجددت المعارك اليوم الجمعة بمحيط العاصمة الليب...</td>\n",
              "      <td>تجددت المعارك اليوم الجمعة بمحيط العاصمة الليب...</td>\n",
              "    </tr>\n",
              "    <tr>\n",
              "      <th>1</th>\n",
              "      <td>كشف الفنان والمقاول المصري المعارض محمد علي عن...</td>\n",
              "      <td>عبد الرحمن محمد-الجزيرة نت كشف الفنان والمقاول...</td>\n",
              "    </tr>\n",
              "    <tr>\n",
              "      <th>2</th>\n",
              "      <td>شهدت تركيا اليوم الجمعة الإعلان رسميا عن ميلاد...</td>\n",
              "      <td>خليل مبروك-إسطنبول شهدت تركيا اليوم الجمعة الإ...</td>\n",
              "    </tr>\n",
              "    <tr>\n",
              "      <th>3</th>\n",
              "      <td>عززت السلطات الهندية اليوم الجمعة إجراءات الأم...</td>\n",
              "      <td>عززت السلطات الهندية اليوم الجمعة إجراءات الأم...</td>\n",
              "    </tr>\n",
              "    <tr>\n",
              "      <th>4</th>\n",
              "      <td>احتشد آلاف المسلمين في عدد من الدول الإسلامية ...</td>\n",
              "      <td>احتشد آلاف المسلمين في عدد من الدول الإسلامية ...</td>\n",
              "    </tr>\n",
              "  </tbody>\n",
              "</table>\n",
              "</div>\n",
              "      <button class=\"colab-df-convert\" onclick=\"convertToInteractive('df-b936d59d-4f3a-42da-b2ae-e29596ec0f38')\"\n",
              "              title=\"Convert this dataframe to an interactive table.\"\n",
              "              style=\"display:none;\">\n",
              "        \n",
              "  <svg xmlns=\"http://www.w3.org/2000/svg\" height=\"24px\"viewBox=\"0 0 24 24\"\n",
              "       width=\"24px\">\n",
              "    <path d=\"M0 0h24v24H0V0z\" fill=\"none\"/>\n",
              "    <path d=\"M18.56 5.44l.94 2.06.94-2.06 2.06-.94-2.06-.94-.94-2.06-.94 2.06-2.06.94zm-11 1L8.5 8.5l.94-2.06 2.06-.94-2.06-.94L8.5 2.5l-.94 2.06-2.06.94zm10 10l.94 2.06.94-2.06 2.06-.94-2.06-.94-.94-2.06-.94 2.06-2.06.94z\"/><path d=\"M17.41 7.96l-1.37-1.37c-.4-.4-.92-.59-1.43-.59-.52 0-1.04.2-1.43.59L10.3 9.45l-7.72 7.72c-.78.78-.78 2.05 0 2.83L4 21.41c.39.39.9.59 1.41.59.51 0 1.02-.2 1.41-.59l7.78-7.78 2.81-2.81c.8-.78.8-2.07 0-2.86zM5.41 20L4 18.59l7.72-7.72 1.47 1.35L5.41 20z\"/>\n",
              "  </svg>\n",
              "      </button>\n",
              "      \n",
              "  <style>\n",
              "    .colab-df-container {\n",
              "      display:flex;\n",
              "      flex-wrap:wrap;\n",
              "      gap: 12px;\n",
              "    }\n",
              "\n",
              "    .colab-df-convert {\n",
              "      background-color: #E8F0FE;\n",
              "      border: none;\n",
              "      border-radius: 50%;\n",
              "      cursor: pointer;\n",
              "      display: none;\n",
              "      fill: #1967D2;\n",
              "      height: 32px;\n",
              "      padding: 0 0 0 0;\n",
              "      width: 32px;\n",
              "    }\n",
              "\n",
              "    .colab-df-convert:hover {\n",
              "      background-color: #E2EBFA;\n",
              "      box-shadow: 0px 1px 2px rgba(60, 64, 67, 0.3), 0px 1px 3px 1px rgba(60, 64, 67, 0.15);\n",
              "      fill: #174EA6;\n",
              "    }\n",
              "\n",
              "    [theme=dark] .colab-df-convert {\n",
              "      background-color: #3B4455;\n",
              "      fill: #D2E3FC;\n",
              "    }\n",
              "\n",
              "    [theme=dark] .colab-df-convert:hover {\n",
              "      background-color: #434B5C;\n",
              "      box-shadow: 0px 1px 3px 1px rgba(0, 0, 0, 0.15);\n",
              "      filter: drop-shadow(0px 1px 2px rgba(0, 0, 0, 0.3));\n",
              "      fill: #FFFFFF;\n",
              "    }\n",
              "  </style>\n",
              "\n",
              "      <script>\n",
              "        const buttonEl =\n",
              "          document.querySelector('#df-b936d59d-4f3a-42da-b2ae-e29596ec0f38 button.colab-df-convert');\n",
              "        buttonEl.style.display =\n",
              "          google.colab.kernel.accessAllowed ? 'block' : 'none';\n",
              "\n",
              "        async function convertToInteractive(key) {\n",
              "          const element = document.querySelector('#df-b936d59d-4f3a-42da-b2ae-e29596ec0f38');\n",
              "          const dataTable =\n",
              "            await google.colab.kernel.invokeFunction('convertToInteractive',\n",
              "                                                     [key], {});\n",
              "          if (!dataTable) return;\n",
              "\n",
              "          const docLinkHtml = 'Like what you see? Visit the ' +\n",
              "            '<a target=\"_blank\" href=https://colab.research.google.com/notebooks/data_table.ipynb>data table notebook</a>'\n",
              "            + ' to learn more about interactive tables.';\n",
              "          element.innerHTML = '';\n",
              "          dataTable['output_type'] = 'display_data';\n",
              "          await google.colab.output.renderOutput(dataTable, element);\n",
              "          const docLink = document.createElement('div');\n",
              "          docLink.innerHTML = docLinkHtml;\n",
              "          element.appendChild(docLink);\n",
              "        }\n",
              "      </script>\n",
              "    </div>\n",
              "  </div>\n",
              "  "
            ]
          },
          "metadata": {},
          "execution_count": 40
        }
      ]
    },
    {
      "cell_type": "code",
      "source": [
        "from sklearn.model_selection import train_test_split\n",
        "df_train,df_test=train_test_split(df,test_size=0.1,random_state=42)\n",
        "df_train,df_valid=train_test_split(df_train,test_size=0.2,random_state=42)"
      ],
      "metadata": {
        "id": "V69pI2VhTw4D"
      },
      "execution_count": null,
      "outputs": []
    },
    {
      "cell_type": "code",
      "source": [
        "!pip install transformers==4.5.1 nltk datasets regex sklearn sentencepiece protobuf fairscale sacrebleu rouge_score -qqq"
      ],
      "metadata": {
        "colab": {
          "base_uri": "https://localhost:8080/"
        },
        "id": "uysMoJCVTH_U",
        "outputId": "1759e812-1f80-4046-f22e-4405a774d02c"
      },
      "execution_count": null,
      "outputs": [
        {
          "output_type": "stream",
          "name": "stdout",
          "text": [
            "\u001b[K     |████████████████████████████████| 2.1 MB 5.5 MB/s \n",
            "\u001b[K     |████████████████████████████████| 342 kB 35.2 MB/s \n",
            "\u001b[K     |████████████████████████████████| 1.2 MB 25.0 MB/s \n",
            "\u001b[K     |████████████████████████████████| 248 kB 39.0 MB/s \n",
            "\u001b[?25h  Installing build dependencies ... \u001b[?25l\u001b[?25hdone\n",
            "  Getting requirements to build wheel ... \u001b[?25l\u001b[?25hdone\n",
            "  Installing backend dependencies ... \u001b[?25l\u001b[?25hdone\n",
            "    Preparing wheel metadata ... \u001b[?25l\u001b[?25hdone\n",
            "\u001b[K     |████████████████████████████████| 90 kB 6.9 MB/s \n",
            "\u001b[K     |████████████████████████████████| 3.3 MB 40.2 MB/s \n",
            "\u001b[K     |████████████████████████████████| 880 kB 46.6 MB/s \n",
            "\u001b[K     |████████████████████████████████| 212 kB 42.2 MB/s \n",
            "\u001b[K     |████████████████████████████████| 136 kB 50.4 MB/s \n",
            "\u001b[K     |████████████████████████████████| 1.1 MB 35.8 MB/s \n",
            "\u001b[K     |████████████████████████████████| 84 kB 2.0 MB/s \n",
            "\u001b[K     |████████████████████████████████| 127 kB 39.6 MB/s \n",
            "\u001b[K     |████████████████████████████████| 94 kB 3.1 MB/s \n",
            "\u001b[K     |████████████████████████████████| 271 kB 38.7 MB/s \n",
            "\u001b[K     |████████████████████████████████| 144 kB 39.2 MB/s \n",
            "\u001b[?25h  Building wheel for fairscale (PEP 517) ... \u001b[?25l\u001b[?25hdone\n",
            "  Building wheel for sacremoses (setup.py) ... \u001b[?25l\u001b[?25hdone\n",
            "\u001b[31mERROR: pip's dependency resolver does not currently take into account all the packages that are installed. This behaviour is the source of the following dependency conflicts.\n",
            "datascience 0.10.6 requires folium==0.2.1, but you have folium 0.8.3 which is incompatible.\u001b[0m\n"
          ]
        }
      ]
    },
    {
      "cell_type": "code",
      "source": [
        "!wget https://raw.githubusercontent.com/UBC-NLP/araT5/main/examples/run_trainier_seq2seq_huggingface.py?token=AA4R7KKKCBPS5WX4BJSWNFTBG2OPK -O run_trainier_seq2seq_huggingface.py\n",
        "!wget https://raw.githubusercontent.com/UBC-NLP/araT5/main/examples/eval_squad.py?token=AA4R7KOBBXSPCDXRRHJ3RW3BG2RF4 -O eval_squad.py"
      ],
      "metadata": {
        "colab": {
          "base_uri": "https://localhost:8080/"
        },
        "id": "Maox5sUUTvC8",
        "outputId": "1bd25e98-5857-44f2-c17f-4a21e660208f"
      },
      "execution_count": null,
      "outputs": [
        {
          "output_type": "stream",
          "name": "stdout",
          "text": [
            "--2022-05-13 21:26:30--  https://raw.githubusercontent.com/UBC-NLP/araT5/main/examples/run_trainier_seq2seq_huggingface.py?token=AA4R7KKKCBPS5WX4BJSWNFTBG2OPK\n",
            "Resolving raw.githubusercontent.com (raw.githubusercontent.com)... 185.199.109.133, 185.199.111.133, 185.199.108.133, ...\n",
            "Connecting to raw.githubusercontent.com (raw.githubusercontent.com)|185.199.109.133|:443... connected.\n",
            "HTTP request sent, awaiting response... 200 OK\n",
            "Length: 36637 (36K) [text/plain]\n",
            "Saving to: ‘run_trainier_seq2seq_huggingface.py’\n",
            "\n",
            "run_trainier_seq2se 100%[===================>]  35.78K  --.-KB/s    in 0.02s   \n",
            "\n",
            "2022-05-13 21:26:30 (2.05 MB/s) - ‘run_trainier_seq2seq_huggingface.py’ saved [36637/36637]\n",
            "\n",
            "--2022-05-13 21:26:30--  https://raw.githubusercontent.com/UBC-NLP/araT5/main/examples/eval_squad.py?token=AA4R7KOBBXSPCDXRRHJ3RW3BG2RF4\n",
            "Resolving raw.githubusercontent.com (raw.githubusercontent.com)... 185.199.109.133, 185.199.108.133, 185.199.111.133, ...\n",
            "Connecting to raw.githubusercontent.com (raw.githubusercontent.com)|185.199.109.133|:443... connected.\n",
            "HTTP request sent, awaiting response... 200 OK\n",
            "Length: 7689 (7.5K) [text/plain]\n",
            "Saving to: ‘eval_squad.py’\n",
            "\n",
            "eval_squad.py       100%[===================>]   7.51K  --.-KB/s    in 0.002s  \n",
            "\n",
            "2022-05-13 21:26:30 (4.88 MB/s) - ‘eval_squad.py’ saved [7689/7689]\n",
            "\n"
          ]
        }
      ]
    },
    {
      "cell_type": "code",
      "source": [
        "!wget https://raw.githubusercontent.com/UBC-NLP/araT5/main/examples/ARGEn_title_genration_sample_train.tsv?token=AA4R7KKFIZA3WUAVHFI7AIDBG2QCE -O ARGEn_title_genration_sample_train.tsv\n",
        "!wget https://raw.githubusercontent.com/UBC-NLP/araT5/main/examples/ARGEn_title_genration_sample_valid.tsv?token=AA4R7KLXSAQEF2HUWL52Y53BG2QEE -O ARGEn_title_genration_sample_v"
      ],
      "metadata": {
        "colab": {
          "base_uri": "https://localhost:8080/"
        },
        "id": "38IBEh8BUOqI",
        "outputId": "7709cb3e-728b-4664-85fd-04477702d663"
      },
      "execution_count": null,
      "outputs": [
        {
          "output_type": "stream",
          "name": "stdout",
          "text": [
            "--2022-05-13 21:26:43--  https://raw.githubusercontent.com/UBC-NLP/araT5/main/examples/ARGEn_title_genration_sample_train.tsv?token=AA4R7KKFIZA3WUAVHFI7AIDBG2QCE\n",
            "Resolving raw.githubusercontent.com (raw.githubusercontent.com)... 185.199.108.133, 185.199.109.133, 185.199.110.133, ...\n",
            "Connecting to raw.githubusercontent.com (raw.githubusercontent.com)|185.199.108.133|:443... connected.\n",
            "HTTP request sent, awaiting response... 200 OK\n",
            "Length: 2961751 (2.8M) [text/plain]\n",
            "Saving to: ‘ARGEn_title_genration_sample_train.tsv’\n",
            "\n",
            "ARGEn_title_genrati 100%[===================>]   2.82M  --.-KB/s    in 0.1s    \n",
            "\n",
            "2022-05-13 21:26:44 (22.3 MB/s) - ‘ARGEn_title_genration_sample_train.tsv’ saved [2961751/2961751]\n",
            "\n",
            "--2022-05-13 21:26:44--  https://raw.githubusercontent.com/UBC-NLP/araT5/main/examples/ARGEn_title_genration_sample_valid.tsv?token=AA4R7KLXSAQEF2HUWL52Y53BG2QEE\n",
            "Resolving raw.githubusercontent.com (raw.githubusercontent.com)... 185.199.108.133, 185.199.109.133, 185.199.110.133, ...\n",
            "Connecting to raw.githubusercontent.com (raw.githubusercontent.com)|185.199.108.133|:443... connected.\n",
            "HTTP request sent, awaiting response... 200 OK\n",
            "Length: 288031 (281K) [text/plain]\n",
            "Saving to: ‘ARGEn_title_genration_sample_v’\n",
            "\n",
            "ARGEn_title_genrati 100%[===================>] 281.28K  --.-KB/s    in 0.03s   \n",
            "\n",
            "2022-05-13 21:26:44 (8.26 MB/s) - ‘ARGEn_title_genration_sample_v’ saved [288031/288031]\n",
            "\n"
          ]
        }
      ]
    },
    {
      "cell_type": "code",
      "source": [
        "df_train.to_csv(\"train.csv\",encoding=\"utf-8-sig\")\n",
        "df_test.to_csv(\"test.csv\",encoding=\"utf-8-sig\")\n",
        "df_valid.to_csv(\"valid.csv\",encoding=\"utf-8-sig\")"
      ],
      "metadata": {
        "id": "AWeBQXO_UVkX"
      },
      "execution_count": null,
      "outputs": []
    },
    {
      "cell_type": "code",
      "source": [
        "!python run_trainier_seq2seq_huggingface.py \\\n",
        "        --learning_rate 5e-5 \\\n",
        "        --max_target_length 200 --max_source_length 800 \\\n",
        "        --per_device_train_batch_size 8 --per_device_eval_batch_size 8 \\\n",
        "        --model_name_or_path \"UBC-NLP/AraT5-base\" \\\n",
        "        --output_dir \"AraT5_Summerization\" --overwrite_output_dir \\\n",
        "        --num_train_epochs 3 \\\n",
        "        --train_file \"train.csv\" \\\n",
        "        --validation_file \"valid.csv\" \\\n",
        "        --task \"text_summarization\" --text_column \"content\" --summary_column \"description\" \\\n",
        "        --load_best_model_at_end --metric_for_best_model \"eval_rougeL\" --greater_is_better True --evaluation_strategy epoch --logging_strategy epoch --predict_with_generate\\\n",
        "        --do_train --do_eval"
      ],
      "metadata": {
        "colab": {
          "base_uri": "https://localhost:8080/"
        },
        "id": "2Fmsxv9mUSA0",
        "outputId": "ecb741aa-be56-47c7-816d-73ac8595bdb3"
      },
      "execution_count": null,
      "outputs": [
        {
          "output_type": "stream",
          "name": "stdout",
          "text": [
            "last_checkpoint None\n",
            "05/14/2022 01:21:27 - WARNING - __main__ -   Process rank: -1, device: cuda:0, n_gpu: 1distributed training: False, 16-bits training: False\n",
            "05/14/2022 01:21:27 - INFO - __main__ -   Training/evaluation parameters Seq2SeqTrainingArguments(output_dir='AraT5_Summerization', overwrite_output_dir=True, do_train=True, do_eval=True, do_predict=False, evaluation_strategy=<IntervalStrategy.EPOCH: 'epoch'>, prediction_loss_only=False, per_device_train_batch_size=8, per_device_eval_batch_size=8, per_gpu_train_batch_size=None, per_gpu_eval_batch_size=None, gradient_accumulation_steps=1, eval_accumulation_steps=None, learning_rate=5e-05, weight_decay=0.0, adam_beta1=0.9, adam_beta2=0.999, adam_epsilon=1e-08, max_grad_norm=1.0, num_train_epochs=3.0, max_steps=-1, lr_scheduler_type=<SchedulerType.LINEAR: 'linear'>, warmup_ratio=0.0, warmup_steps=0, logging_dir='runs/May14_01-21-27_956dc0a484da', logging_strategy=<IntervalStrategy.EPOCH: 'epoch'>, logging_first_step=False, logging_steps=500, save_strategy=<IntervalStrategy.STEPS: 'steps'>, save_steps=500, save_total_limit=None, no_cuda=False, seed=42, fp16=False, fp16_opt_level='O1', fp16_backend='auto', fp16_full_eval=False, local_rank=-1, tpu_num_cores=None, tpu_metrics_debug=False, debug=False, dataloader_drop_last=False, eval_steps=500, dataloader_num_workers=0, past_index=-1, run_name='AraT5_Summerization', disable_tqdm=False, remove_unused_columns=True, label_names=None, load_best_model_at_end=True, metric_for_best_model='eval_rougeL', greater_is_better=True, ignore_data_skip=False, sharded_ddp=[], deepspeed=None, label_smoothing_factor=0.0, adafactor=False, group_by_length=False, length_column_name='length', report_to=['tensorboard'], ddp_find_unused_parameters=None, dataloader_pin_memory=True, skip_memory_metrics=False, mp_parameters='', sortish_sampler=False, predict_with_generate=True)\n",
            "05/14/2022 01:21:28 - WARNING - datasets.builder -   Using custom data configuration default-eeb12dcd190dcdb2\n",
            "05/14/2022 01:21:28 - WARNING - datasets.builder -   Reusing dataset csv (/tmp/AraT5_cache_dir/csv/default-eeb12dcd190dcdb2/0.0.0/433e0ccc46f9880962cc2b12065189766fbb2bee57a221866138fb9203c83519)\n",
            "\r  0% 0/2 [00:00<?, ?it/s]\r100% 2/2 [00:00<00:00, 690.02it/s]\n",
            "loading configuration file https://huggingface.co/UBC-NLP/AraT5-base/resolve/main/config.json from cache at /tmp/AraT5_cache_dir/4c7132286bac804e8fdefb5c77bee2101dcf375d17c0f466e0233118a6ee1214.f557f6c0f8364e0e620d812e0d434a806979457ae0f9ae75af49a642c71ae621\n",
            "Model config T5Config {\n",
            "  \"d_ff\": 2048,\n",
            "  \"d_kv\": 64,\n",
            "  \"d_model\": 768,\n",
            "  \"decoder_start_token_id\": 0,\n",
            "  \"dropout_rate\": 0.1,\n",
            "  \"eos_token_id\": 1,\n",
            "  \"feed_forward_proj\": \"gated-gelu\",\n",
            "  \"gradient_checkpointing\": false,\n",
            "  \"initializer_factor\": 1.0,\n",
            "  \"is_encoder_decoder\": true,\n",
            "  \"layer_norm_epsilon\": 1e-06,\n",
            "  \"model_type\": \"t5\",\n",
            "  \"num_decoder_layers\": 12,\n",
            "  \"num_heads\": 12,\n",
            "  \"num_layers\": 12,\n",
            "  \"output_past\": true,\n",
            "  \"pad_token_id\": 0,\n",
            "  \"relative_attention_num_buckets\": 32,\n",
            "  \"transformers_version\": \"4.5.1\",\n",
            "  \"use_cache\": true,\n",
            "  \"vocab_size\": 110080\n",
            "}\n",
            "\n",
            "loading configuration file https://huggingface.co/UBC-NLP/AraT5-base/resolve/main/config.json from cache at /tmp/AraT5_cache_dir/4c7132286bac804e8fdefb5c77bee2101dcf375d17c0f466e0233118a6ee1214.f557f6c0f8364e0e620d812e0d434a806979457ae0f9ae75af49a642c71ae621\n",
            "Model config T5Config {\n",
            "  \"d_ff\": 2048,\n",
            "  \"d_kv\": 64,\n",
            "  \"d_model\": 768,\n",
            "  \"decoder_start_token_id\": 0,\n",
            "  \"dropout_rate\": 0.1,\n",
            "  \"eos_token_id\": 1,\n",
            "  \"feed_forward_proj\": \"gated-gelu\",\n",
            "  \"gradient_checkpointing\": false,\n",
            "  \"initializer_factor\": 1.0,\n",
            "  \"is_encoder_decoder\": true,\n",
            "  \"layer_norm_epsilon\": 1e-06,\n",
            "  \"model_type\": \"t5\",\n",
            "  \"num_decoder_layers\": 12,\n",
            "  \"num_heads\": 12,\n",
            "  \"num_layers\": 12,\n",
            "  \"output_past\": true,\n",
            "  \"pad_token_id\": 0,\n",
            "  \"relative_attention_num_buckets\": 32,\n",
            "  \"transformers_version\": \"4.5.1\",\n",
            "  \"use_cache\": true,\n",
            "  \"vocab_size\": 110080\n",
            "}\n",
            "\n",
            "loading file https://huggingface.co/UBC-NLP/AraT5-base/resolve/main/spiece.model from cache at /tmp/AraT5_cache_dir/cf3818bc494e3e0e8778e559c02a4857ba8e7bcf01865a22174d60f94f4777e8.a28e4cb40a178b4c9dc2f864056ef84f0116dff1de5b2f36f258a99dad119fa7\n",
            "loading file https://huggingface.co/UBC-NLP/AraT5-base/resolve/main/tokenizer.json from cache at None\n",
            "loading file https://huggingface.co/UBC-NLP/AraT5-base/resolve/main/added_tokens.json from cache at None\n",
            "loading file https://huggingface.co/UBC-NLP/AraT5-base/resolve/main/special_tokens_map.json from cache at /tmp/AraT5_cache_dir/3b52be683fa2fd36463d04d51871966137133d8c4fc7663ff2a20cb4f3549c18.b02fba13e4584f40329b20be0bad88c2ef97b5fda7d9f4f69b1cb3a620568a86\n",
            "loading file https://huggingface.co/UBC-NLP/AraT5-base/resolve/main/tokenizer_config.json from cache at /tmp/AraT5_cache_dir/ffad0bb5599c2cd248d86c9adb50a7a4ad2f226b2b46cae366bcad32b91f807c.797f3804608aef3da17eb680425049711c45883a9d89eaa1ec07c30d2d2f7c39\n",
            "loading weights file https://huggingface.co/UBC-NLP/AraT5-base/resolve/main/pytorch_model.bin from cache at /tmp/AraT5_cache_dir/60a19f9e7673f94c9c87a283a07d12541a7a41c43a051cf4bc27bd095a0b4028.f98cc015ed7f5a9d064bb125536bdf2bf1ff83f8fa66b7a2aae8e31f72ba2578\n",
            "All model checkpoint weights were used when initializing T5ForConditionalGeneration.\n",
            "\n",
            "All the weights of T5ForConditionalGeneration were initialized from the model checkpoint at UBC-NLP/AraT5-base.\n",
            "If your task is similar to the task the model of the checkpoint was trained on, you can already use T5ForConditionalGeneration for predictions without further training.\n",
            "100% 5/5 [00:16<00:00,  3.32s/ba]\n",
            "100% 2/2 [00:03<00:00,  1.88s/ba]\n",
            "[INFO] evlaute using  rougeL score task name: text_summarization\n",
            "[INFO] early_stopping_num= 20\n",
            "***** checkpoint= None\n",
            "***** Running training *****\n",
            "  Num examples = 4226\n",
            "  Num Epochs = 3\n",
            "  Instantaneous batch size per device = 8\n",
            "  Total train batch size (w. parallel, distributed & accumulation) = 8\n",
            "  Gradient Accumulation steps = 1\n",
            "  Total optimization steps = 1587\n",
            "  0% 0/1587 [00:00<?, ?it/s]Traceback (most recent call last):\n",
            "  File \"run_trainier_seq2seq_huggingface.py\", line 807, in <module>\n",
            "    main()\n",
            "  File \"run_trainier_seq2seq_huggingface.py\", line 719, in main\n",
            "    train_result = trainer.train(resume_from_checkpoint=checkpoint)\n",
            "  File \"/usr/local/lib/python3.7/dist-packages/transformers/trainer.py\", line 1120, in train\n",
            "    tr_loss += self.training_step(model, inputs)\n",
            "  File \"/usr/local/lib/python3.7/dist-packages/transformers/trainer.py\", line 1524, in training_step\n",
            "    loss = self.compute_loss(model, inputs)\n",
            "  File \"/usr/local/lib/python3.7/dist-packages/transformers/trainer.py\", line 1556, in compute_loss\n",
            "    outputs = model(**inputs)\n",
            "  File \"/usr/local/lib/python3.7/dist-packages/torch/nn/modules/module.py\", line 1110, in _call_impl\n",
            "    return forward_call(*input, **kwargs)\n",
            "  File \"/usr/local/lib/python3.7/dist-packages/transformers/models/t5/modeling_t5.py\", line 1506, in forward\n",
            "    return_dict=return_dict,\n",
            "  File \"/usr/local/lib/python3.7/dist-packages/torch/nn/modules/module.py\", line 1110, in _call_impl\n",
            "    return forward_call(*input, **kwargs)\n",
            "  File \"/usr/local/lib/python3.7/dist-packages/transformers/models/t5/modeling_t5.py\", line 959, in forward\n",
            "    output_attentions=output_attentions,\n",
            "  File \"/usr/local/lib/python3.7/dist-packages/torch/nn/modules/module.py\", line 1110, in _call_impl\n",
            "    return forward_call(*input, **kwargs)\n",
            "  File \"/usr/local/lib/python3.7/dist-packages/transformers/models/t5/modeling_t5.py\", line 638, in forward\n",
            "    output_attentions=output_attentions,\n",
            "  File \"/usr/local/lib/python3.7/dist-packages/torch/nn/modules/module.py\", line 1110, in _call_impl\n",
            "    return forward_call(*input, **kwargs)\n",
            "  File \"/usr/local/lib/python3.7/dist-packages/transformers/models/t5/modeling_t5.py\", line 545, in forward\n",
            "    output_attentions=output_attentions,\n",
            "  File \"/usr/local/lib/python3.7/dist-packages/torch/nn/modules/module.py\", line 1110, in _call_impl\n",
            "    return forward_call(*input, **kwargs)\n",
            "  File \"/usr/local/lib/python3.7/dist-packages/transformers/models/t5/modeling_t5.py\", line 498, in forward\n",
            "    attn_weights = F.softmax(scores.float(), dim=-1).type_as(\n",
            "  File \"/usr/local/lib/python3.7/dist-packages/torch/nn/functional.py\", line 1818, in softmax\n",
            "    ret = input.softmax(dim)\n",
            "RuntimeError: CUDA out of memory. Tried to allocate 236.00 MiB (GPU 0; 11.17 GiB total capacity; 10.18 GiB already allocated; 147.19 MiB free; 10.46 GiB reserved in total by PyTorch) If reserved memory is >> allocated memory try setting max_split_size_mb to avoid fragmentation.  See documentation for Memory Management and PYTORCH_CUDA_ALLOC_CONF\n",
            "  0% 0/1587 [00:00<?, ?it/s]\n"
          ]
        }
      ]
    },
    {
      "cell_type": "code",
      "source": [
        "!python run_trainier_seq2seq_huggingface.py \\\n",
        "        --learning_rate 5e-5 \\\n",
        "        --max_target_length 128 --max_source_length 128 \\\n",
        "        --per_device_train_batch_size 8 --per_device_eval_batch_size 8 \\\n",
        "        --model_name_or_path \"AraT5_Summerization\" \\\n",
        "        --output_dir \"AraT5_Summerization\" \\\n",
        "        --train_file \"train.csv\" \\\n",
        "        --validation_file \"valid.csv\" \\\n",
        "        --test_file \"test.csv\" \\\n",
        "        --metric_for_best_model \"eval_rougeL\" \\\n",
        "        --task \"text_summarization\" --text_column \"content\" --summary_column \"description\" \\\n",
        "        --predict_with_generate --do_predict"
      ],
      "metadata": {
        "colab": {
          "base_uri": "https://localhost:8080/"
        },
        "id": "z-ZdMDjjBkzG",
        "outputId": "aa569730-c869-48ee-baf0-47117491ff3b"
      },
      "execution_count": null,
      "outputs": [
        {
          "output_type": "stream",
          "name": "stdout",
          "text": [
            "last_checkpoint AraT5_Summerization/checkpoint-1587\n",
            "05/14/2022 00:48:25 - WARNING - __main__ -   Process rank: -1, device: cuda:0, n_gpu: 1distributed training: False, 16-bits training: False\n",
            "05/14/2022 00:48:25 - INFO - __main__ -   Training/evaluation parameters Seq2SeqTrainingArguments(output_dir='AraT5_Summerization', overwrite_output_dir=False, do_train=False, do_eval=None, do_predict=True, evaluation_strategy=<IntervalStrategy.NO: 'no'>, prediction_loss_only=False, per_device_train_batch_size=8, per_device_eval_batch_size=8, per_gpu_train_batch_size=None, per_gpu_eval_batch_size=None, gradient_accumulation_steps=1, eval_accumulation_steps=None, learning_rate=5e-05, weight_decay=0.0, adam_beta1=0.9, adam_beta2=0.999, adam_epsilon=1e-08, max_grad_norm=1.0, num_train_epochs=3.0, max_steps=-1, lr_scheduler_type=<SchedulerType.LINEAR: 'linear'>, warmup_ratio=0.0, warmup_steps=0, logging_dir='runs/May14_00-48-25_956dc0a484da', logging_strategy=<IntervalStrategy.STEPS: 'steps'>, logging_first_step=False, logging_steps=500, save_strategy=<IntervalStrategy.STEPS: 'steps'>, save_steps=500, save_total_limit=None, no_cuda=False, seed=42, fp16=False, fp16_opt_level='O1', fp16_backend='auto', fp16_full_eval=False, local_rank=-1, tpu_num_cores=None, tpu_metrics_debug=False, debug=False, dataloader_drop_last=False, eval_steps=500, dataloader_num_workers=0, past_index=-1, run_name='AraT5_Summerization', disable_tqdm=False, remove_unused_columns=True, label_names=None, load_best_model_at_end=False, metric_for_best_model='eval_rougeL', greater_is_better=True, ignore_data_skip=False, sharded_ddp=[], deepspeed=None, label_smoothing_factor=0.0, adafactor=False, group_by_length=False, length_column_name='length', report_to=['tensorboard'], ddp_find_unused_parameters=None, dataloader_pin_memory=True, skip_memory_metrics=False, mp_parameters='', sortish_sampler=False, predict_with_generate=True)\n",
            "05/14/2022 00:48:25 - WARNING - datasets.builder -   Using custom data configuration default-a7d58add6dda4d00\n",
            "Downloading and preparing dataset csv/default to /tmp/AraT5_cache_dir/csv/default-a7d58add6dda4d00/0.0.0/433e0ccc46f9880962cc2b12065189766fbb2bee57a221866138fb9203c83519...\n",
            "Downloading data files: 100% 3/3 [00:00<00:00, 2652.38it/s]\n",
            "Extracting data files: 100% 3/3 [00:00<00:00, 76.24it/s]\n",
            "Dataset csv downloaded and prepared to /tmp/AraT5_cache_dir/csv/default-a7d58add6dda4d00/0.0.0/433e0ccc46f9880962cc2b12065189766fbb2bee57a221866138fb9203c83519. Subsequent calls will reuse this data.\n",
            "100% 3/3 [00:00<00:00, 787.07it/s]\n",
            "loading configuration file AraT5_Summerization/config.json\n",
            "Model config T5Config {\n",
            "  \"_name_or_path\": \"/AraT5_Summerization/checkpoint-529\",\n",
            "  \"architectures\": [\n",
            "    \"T5ForConditionalGeneration\"\n",
            "  ],\n",
            "  \"d_ff\": 2048,\n",
            "  \"d_kv\": 64,\n",
            "  \"d_model\": 768,\n",
            "  \"decoder_start_token_id\": 0,\n",
            "  \"dropout_rate\": 0.1,\n",
            "  \"eos_token_id\": 1,\n",
            "  \"feed_forward_proj\": \"gated-gelu\",\n",
            "  \"gradient_checkpointing\": false,\n",
            "  \"initializer_factor\": 1.0,\n",
            "  \"is_encoder_decoder\": true,\n",
            "  \"layer_norm_epsilon\": 1e-06,\n",
            "  \"model_type\": \"t5\",\n",
            "  \"num_decoder_layers\": 12,\n",
            "  \"num_heads\": 12,\n",
            "  \"num_layers\": 12,\n",
            "  \"output_past\": true,\n",
            "  \"pad_token_id\": 0,\n",
            "  \"relative_attention_num_buckets\": 32,\n",
            "  \"transformers_version\": \"4.5.1\",\n",
            "  \"use_cache\": true,\n",
            "  \"vocab_size\": 110080\n",
            "}\n",
            "\n",
            "loading configuration file AraT5_Summerization/config.json\n",
            "Model config T5Config {\n",
            "  \"_name_or_path\": \"/AraT5_Summerization/checkpoint-529\",\n",
            "  \"architectures\": [\n",
            "    \"T5ForConditionalGeneration\"\n",
            "  ],\n",
            "  \"d_ff\": 2048,\n",
            "  \"d_kv\": 64,\n",
            "  \"d_model\": 768,\n",
            "  \"decoder_start_token_id\": 0,\n",
            "  \"dropout_rate\": 0.1,\n",
            "  \"eos_token_id\": 1,\n",
            "  \"feed_forward_proj\": \"gated-gelu\",\n",
            "  \"gradient_checkpointing\": false,\n",
            "  \"initializer_factor\": 1.0,\n",
            "  \"is_encoder_decoder\": true,\n",
            "  \"layer_norm_epsilon\": 1e-06,\n",
            "  \"model_type\": \"t5\",\n",
            "  \"num_decoder_layers\": 12,\n",
            "  \"num_heads\": 12,\n",
            "  \"num_layers\": 12,\n",
            "  \"output_past\": true,\n",
            "  \"pad_token_id\": 0,\n",
            "  \"relative_attention_num_buckets\": 32,\n",
            "  \"transformers_version\": \"4.5.1\",\n",
            "  \"use_cache\": true,\n",
            "  \"vocab_size\": 110080\n",
            "}\n",
            "\n",
            "Didn't find file AraT5_Summerization/tokenizer.json. We won't load it.\n",
            "Didn't find file AraT5_Summerization/added_tokens.json. We won't load it.\n",
            "loading file AraT5_Summerization/spiece.model\n",
            "loading file None\n",
            "loading file None\n",
            "loading file AraT5_Summerization/special_tokens_map.json\n",
            "loading file AraT5_Summerization/tokenizer_config.json\n",
            "loading weights file AraT5_Summerization/pytorch_model.bin\n",
            "All model checkpoint weights were used when initializing T5ForConditionalGeneration.\n",
            "\n",
            "All the weights of T5ForConditionalGeneration were initialized from the model checkpoint at AraT5_Summerization.\n",
            "If your task is similar to the task the model of the checkpoint was trained on, you can already use T5ForConditionalGeneration for predictions without further training.\n",
            "100% 1/1 [00:02<00:00,  2.11s/ba]\n",
            "[INFO] evlaute using  rougeL score task name: text_summarization\n",
            "[INFO] early_stopping_num= 20\n",
            "05/14/2022 00:48:59 - INFO - __main__ -   *** Test ***\n",
            "***** Running Prediction *****\n",
            "  Num examples = 587\n",
            "  Batch size = 8\n",
            "100% 74/74 [12:33<00:00, 10.38s/it]05/14/2022 01:01:48 - INFO - __main__ -   ***** test metrics *****\n",
            "05/14/2022 01:01:48 - INFO - __main__ -     init_mem_cpu_alloc_delta  =               969MB\n",
            "05/14/2022 01:01:48 - INFO - __main__ -     init_mem_cpu_peaked_delta =                 0MB\n",
            "05/14/2022 01:01:48 - INFO - __main__ -     init_mem_gpu_alloc_delta  =              1081MB\n",
            "05/14/2022 01:01:48 - INFO - __main__ -     init_mem_gpu_peaked_delta =                 0MB\n",
            "05/14/2022 01:01:48 - INFO - __main__ -     test_check_point          = AraT5_Summerization\n",
            "05/14/2022 01:01:48 - INFO - __main__ -     test_gen_len              =            118.8961\n",
            "05/14/2022 01:01:48 - INFO - __main__ -     test_loss                 =              6.1303\n",
            "05/14/2022 01:01:48 - INFO - __main__ -     test_mem_cpu_alloc_delta  =                13MB\n",
            "05/14/2022 01:01:48 - INFO - __main__ -     test_mem_cpu_peaked_delta =                 0MB\n",
            "05/14/2022 01:01:48 - INFO - __main__ -     test_mem_gpu_alloc_delta  =                 0MB\n",
            "05/14/2022 01:01:48 - INFO - __main__ -     test_mem_gpu_peaked_delta =               490MB\n",
            "05/14/2022 01:01:48 - INFO - __main__ -     test_rouge1               =             89.0857\n",
            "05/14/2022 01:01:48 - INFO - __main__ -     test_rouge2               =                 0.0\n",
            "05/14/2022 01:01:48 - INFO - __main__ -     test_rougeL               =             89.1369\n",
            "05/14/2022 01:01:48 - INFO - __main__ -     test_runtime              =          0:12:48.36\n",
            "05/14/2022 01:01:48 - INFO - __main__ -     test_samples              =                 587\n",
            "05/14/2022 01:01:48 - INFO - __main__ -     test_samples_per_second   =               0.764\n",
            "100% 74/74 [12:39<00:00, 10.26s/it]\n"
          ]
        }
      ]
    },
    {
      "cell_type": "code",
      "source": [
        "!head -10 AraT5_Summerization/test_preds_seq2seq.txt"
      ],
      "metadata": {
        "colab": {
          "base_uri": "https://localhost:8080/"
        },
        "id": "7cC-xqjHCY20",
        "outputId": "26f55160-75c4-4fb7-a5e9-27d2ee43ae31"
      },
      "execution_count": null,
      "outputs": [
        {
          "output_type": "stream",
          "name": "stdout",
          "text": [
            "قالت السلطات في السلطات في في في في في في في في في في في في في في في في في في في في في في في في في في في في في في في في في في في في في في في في في في في في في في في في في في في في في في في في في في في في في في في في في في في في في في في في في في في في في في في في في في في في في في في في في في في في في في في في في في في في في في في في في في في في في من من من من من من من من من من من من من من\n",
            "قالت رئيس الوزراء الوزراء الأفغانية في أسعار أسعار أسعار أسعار أسعار أسعار أسعار أسعار أسعار أسعار أسعار أسعار أسعار أسعار أسعار أسعار أسعار أسعار أسعار أسعار أسعار أسعار أسعار أسعار أسعار أسعار أسعار أسعار أسعار أسعار أسعار أسعار أسعار أسعار أسعار أسعار أسعار أسعار أسعار أسعار أسعار أسعار أسعار أسعار أسعار أسعار أسعار أسعار أسعار أسعار أسعار أسعار أسعار أسعار أسعار أسعار أسعار أسعار أسعار أسعار أسعار أسعار أسعار أسعار أسعار أسعار أسعار أسعار أسعار أسعار أسعار أسعار أسعار أسعار أسعار أسعار أسعار أسعار أسعار أسعار أسعار أسعار أسعار أسعار أسعار أسعار أسعار أسعار أسعار أسعار أسعار أسعار أسعار أسعار أسعار أسعار أسعار أسعار أسعار أسعار أسعار أسعار أسعار أسعار أسعار أسعار أسعار\n",
            "قالت مصادر مصادر مصادر مصادر مصادر في حكومة الوزراء التركية في أنقرة في بدء الرئيس التركي الرئيس الرئيس التركي الرئيس الرئيس الرئيس التركي الرئيس الرئيس الرئيس التركي الرئيس الرئيس الرئيس التركي الرئيس الرئيس الرئيس التركي الرئيس الرئيس الرئيس التركي الرئيس الرئيس الرئيس التركي في طهران في الرئيس التركي في العاصمة التركية، في بدء الرئيس التركي الرئيس الرئيس التركي في الرئيس التركي في العاصمة التركية في العاصمة التركية، في بدء بدء الرئيس التركي في الرئيس التركي في الرئيس التركي في الرئيس التركي في العاصمة التركية في العاصمة التركية في العاصمة التركية في العاصمة التركية في العاصمة التركية في العاصمة التركية في العاصمة التركية في العاصمة التركية في العاصمة التركية في العاصمة التركية في وكالة وكالة وكالة وكالة وكالة وكالة وكالة وكالة وكالة وكالة وكالة وكالة وكالة\n",
            "قالت رئيس رئيس رئيس رئيس رئيس رئيس رئيس رئيس رئيس رئيس رئيس رئيس رئيس رئيس رئيس رئيس رئيس رئيس رئيس رئيس رئيس رئيس رئيس رئيس رئيس رئيس رئيس رئيس رئيس رئيس رئيس رئيس رئيس رئيس رئيس رئيس رئيس رئيس رئيس رئيس رئيس رئيس رئيس رئيس رئيس رئيس رئيس رئيس رئيس رئيس رئيس رئيس رئيس رئيس رئيس رئيس رئيس رئيس رئيس رئيس رئيس رئيس رئيس رئيس رئيس رئيس رئيس رئيس رئيس رئيس رئيس رئيس رئيس رئيس رئيس رئيس رئيس رئيس رئيس رئيس رئيس رئيس رئيس رئيس رئيس رئيس رئيس رئيس رئيس رئيس رئيس رئيس رئيس رئيس رئيس رئيس رئيس رئيس رئيس رئيس رئيس رئيس رئيس رئيس رئيس رئيس رئيس رئيس رئيس رئيس رئيس رئيس من من من من من من من من من من من من من من\n",
            "قالت رئيس الرئيس الأميركي الأميركي ترامب في في الرئيس ترامب، في أن إيران على الرئيس ترامب، من من من الرئيس ترامب، في في في في في العاصمة الأميركية، في في في في العاصمة الأميركية، في في في في العاصمة الأميركية، في في في في في العاصمة الأميركية، في في في في في العاصمة الأميركية، في في في في في العاصمة الأميركية، في في في في في العاصمة الأميركية، في في في في في في العاصمة الأميركية، في في في في في في في العاصمة الأميركية، في في في في في في في العاصمة الأميركية المتحدة، في في في في في في رئيس الرئيس الإيراني في المتحدة، من المتحدة، من من من من\n",
            "قالت السلطات الصحة الصحة الصحية، من أن  تتتتتتتت من من من من من من من من من من من من من من من من من من من من من من من من من من من من من من من من من من من من من من من من من من من من من من من من من من من من من من من من من من من من من من من من من من من من من من من من من من من من من من من من من من من من من من من من من من من من من من من من من من من من من من من من من من من من من\n",
            "قالت وكالة وكالة وكالة وكالة وكالة المتحدة ب ب ب ب، في في بغداد، في في العاصمة السعودية بغداد، من في في العاصمة السعودية بغداد، من في في العاصمة السعودية بغداد.\n",
            "قالت مجلة \"، ميمميما\"\"\"\"،  متروا\"\"، في أن أن أن أن تتتتتتتت من مناا، من مناا، من مناا، في في العاصمة العاصمة العاصمة العاصمة العاصمة العاصمة العاصمة العاصمة العاصمة العاصمة العاصمة العاصمة العاصمة العاصمة العاصمة العاصمة العاصمة العاصمة العاصمة العاصمة العاصمة العاصمة العاصمة العاصمة العاصمة العاصمة العاصمة العاصمة العاصمة العاصمة العاصمة العاصمة العاصمة العاصمة العاصمة العاصمة العاصمة العاصمة العاصمة العاصمة العاصمة العاصمة العاصمة العاصمة العاصمة العاصمة العاصمة العاصمة العاصمة العاصمة العاصمة العاصمة العاصمة العاصمة العاصمة العاصمة العاصمة العاصمة العاصمة العاصمة العاصمة العاصمة، من، من من من، من من من من من من من\n",
            "قالت رئيس وزارة وزارة وزارة وزارة وزارة وزارة وزارة وزارة وزارة وزارة وزارة وزارة وزارة وزارة وزارة وزارة وزارة وزارة وزارة وزارة وزارة وزارة وزارة وزارة وزارة وزارة وزارة وزارة وزارة وزارة وزارة وزارة وزارة وزارة وزارة وزارة وزارة وزارة وزارة وزارة وزارة وزارة وزارة وزارة وزارة وزارة وزارة وزارة وزارة وزارة وزارة وزارة وزارة وزارة وزارة وزارة وزارة وزارة وزارة وزارة وزارة وزارة وزارة وزارة وزارة وزارة وزارة وزارة وزارة وزارة وزارة وزارة وزارة وزارة وزارة وزارة وزارة وزارة وزارة وزارة وزارة وزارة وزارة وزارة وزارة وزارة وزارة وزارة وزارة وزارة وزارة وزارة وزارة وزارة وزارة وزارة وزارة وزارة وزارة وزارة وزارة وزارة وزارة وزارة وزارة وزارة وزارة وزارة وزارة وزارة وزارة\n",
            "قالت وكالة وكالة وكالة المتحدة المتحدة المتحدة في في في في المتحدة، من من من من من من من من من من من من من من من من من من من من من من من من من من من من من من من من من من من من من من من من من من من من من من من من من من من من من من من من من من من من من من من من من من من من من من من من من من من من من من من من من من من من من من من من من من من من من من من من من من من من من من وكالة وكالة وكالة وكالة وكالة وكالة وكالة وكالة وكالة وكالة وكالة وكالة\n"
          ]
        }
      ]
    },
    {
      "cell_type": "code",
      "source": [
        "df_test.head()"
      ],
      "metadata": {
        "colab": {
          "base_uri": "https://localhost:8080/",
          "height": 992
        },
        "id": "fUppNggpGUqa",
        "outputId": "a6b05733-6b7c-48e2-b12c-206fe806c3cd"
      },
      "execution_count": null,
      "outputs": [
        {
          "output_type": "execute_result",
          "data": {
            "text/plain": [
              "                                            description  \\\n",
              "2715  أكد باحثون أن الإسهال قد يكون طريقا لانتقال ال...   \n",
              "586   تشهد أفغانستان مؤخرا ارتفاعا قياسيا في معدلات ...   \n",
              "199   نفى مصدر خاص من دائرة الاتصال بالرئاسة التركية...   \n",
              "439   الشخص الوحيد الذي يمكنك تغييره هو نفسك بمجرد أ...   \n",
              "1268  أعلنت الخارجية الأميركية اليوم مواصلة العمل من...   \n",
              "\n",
              "                                                content  \n",
              "2715  أكد باحثون أن الإسهال قد يكون طريقا لانتقال ال...  \n",
              "586   تشهد أفغانستان ارتفاعا قياسيا في معدلات تلوث ا...  \n",
              "199   زاهر البيك-أنقرة نفى مصدر خاص من دائرة الاتصال...  \n",
              "439   ليلى علي يعتمد الزواج السعيد على الحب والثقة و...  \n",
              "1268  أكد المبعوث الأميركي لإيران براين هوك أن بلاده...  "
            ],
            "text/html": [
              "\n",
              "  <div id=\"df-d1d2f94e-fdef-468e-9e07-2b3cad49a2ad\">\n",
              "    <div class=\"colab-df-container\">\n",
              "      <div>\n",
              "<style scoped>\n",
              "    .dataframe tbody tr th:only-of-type {\n",
              "        vertical-align: middle;\n",
              "    }\n",
              "\n",
              "    .dataframe tbody tr th {\n",
              "        vertical-align: top;\n",
              "    }\n",
              "\n",
              "    .dataframe thead th {\n",
              "        text-align: right;\n",
              "    }\n",
              "</style>\n",
              "<table border=\"1\" class=\"dataframe\">\n",
              "  <thead>\n",
              "    <tr style=\"text-align: right;\">\n",
              "      <th></th>\n",
              "      <th>description</th>\n",
              "      <th>content</th>\n",
              "    </tr>\n",
              "  </thead>\n",
              "  <tbody>\n",
              "    <tr>\n",
              "      <th>2715</th>\n",
              "      <td>أكد باحثون أن الإسهال قد يكون طريقا لانتقال ال...</td>\n",
              "      <td>أكد باحثون أن الإسهال قد يكون طريقا لانتقال ال...</td>\n",
              "    </tr>\n",
              "    <tr>\n",
              "      <th>586</th>\n",
              "      <td>تشهد أفغانستان مؤخرا ارتفاعا قياسيا في معدلات ...</td>\n",
              "      <td>تشهد أفغانستان ارتفاعا قياسيا في معدلات تلوث ا...</td>\n",
              "    </tr>\n",
              "    <tr>\n",
              "      <th>199</th>\n",
              "      <td>نفى مصدر خاص من دائرة الاتصال بالرئاسة التركية...</td>\n",
              "      <td>زاهر البيك-أنقرة نفى مصدر خاص من دائرة الاتصال...</td>\n",
              "    </tr>\n",
              "    <tr>\n",
              "      <th>439</th>\n",
              "      <td>الشخص الوحيد الذي يمكنك تغييره هو نفسك بمجرد أ...</td>\n",
              "      <td>ليلى علي يعتمد الزواج السعيد على الحب والثقة و...</td>\n",
              "    </tr>\n",
              "    <tr>\n",
              "      <th>1268</th>\n",
              "      <td>أعلنت الخارجية الأميركية اليوم مواصلة العمل من...</td>\n",
              "      <td>أكد المبعوث الأميركي لإيران براين هوك أن بلاده...</td>\n",
              "    </tr>\n",
              "  </tbody>\n",
              "</table>\n",
              "</div>\n",
              "      <button class=\"colab-df-convert\" onclick=\"convertToInteractive('df-d1d2f94e-fdef-468e-9e07-2b3cad49a2ad')\"\n",
              "              title=\"Convert this dataframe to an interactive table.\"\n",
              "              style=\"display:none;\">\n",
              "        \n",
              "  <svg xmlns=\"http://www.w3.org/2000/svg\" height=\"24px\"viewBox=\"0 0 24 24\"\n",
              "       width=\"24px\">\n",
              "    <path d=\"M0 0h24v24H0V0z\" fill=\"none\"/>\n",
              "    <path d=\"M18.56 5.44l.94 2.06.94-2.06 2.06-.94-2.06-.94-.94-2.06-.94 2.06-2.06.94zm-11 1L8.5 8.5l.94-2.06 2.06-.94-2.06-.94L8.5 2.5l-.94 2.06-2.06.94zm10 10l.94 2.06.94-2.06 2.06-.94-2.06-.94-.94-2.06-.94 2.06-2.06.94z\"/><path d=\"M17.41 7.96l-1.37-1.37c-.4-.4-.92-.59-1.43-.59-.52 0-1.04.2-1.43.59L10.3 9.45l-7.72 7.72c-.78.78-.78 2.05 0 2.83L4 21.41c.39.39.9.59 1.41.59.51 0 1.02-.2 1.41-.59l7.78-7.78 2.81-2.81c.8-.78.8-2.07 0-2.86zM5.41 20L4 18.59l7.72-7.72 1.47 1.35L5.41 20z\"/>\n",
              "  </svg>\n",
              "      </button>\n",
              "      \n",
              "  <style>\n",
              "    .colab-df-container {\n",
              "      display:flex;\n",
              "      flex-wrap:wrap;\n",
              "      gap: 12px;\n",
              "    }\n",
              "\n",
              "    .colab-df-convert {\n",
              "      background-color: #E8F0FE;\n",
              "      border: none;\n",
              "      border-radius: 50%;\n",
              "      cursor: pointer;\n",
              "      display: none;\n",
              "      fill: #1967D2;\n",
              "      height: 32px;\n",
              "      padding: 0 0 0 0;\n",
              "      width: 32px;\n",
              "    }\n",
              "\n",
              "    .colab-df-convert:hover {\n",
              "      background-color: #E2EBFA;\n",
              "      box-shadow: 0px 1px 2px rgba(60, 64, 67, 0.3), 0px 1px 3px 1px rgba(60, 64, 67, 0.15);\n",
              "      fill: #174EA6;\n",
              "    }\n",
              "\n",
              "    [theme=dark] .colab-df-convert {\n",
              "      background-color: #3B4455;\n",
              "      fill: #D2E3FC;\n",
              "    }\n",
              "\n",
              "    [theme=dark] .colab-df-convert:hover {\n",
              "      background-color: #434B5C;\n",
              "      box-shadow: 0px 1px 3px 1px rgba(0, 0, 0, 0.15);\n",
              "      filter: drop-shadow(0px 1px 2px rgba(0, 0, 0, 0.3));\n",
              "      fill: #FFFFFF;\n",
              "    }\n",
              "  </style>\n",
              "\n",
              "      <script>\n",
              "        const buttonEl =\n",
              "          document.querySelector('#df-d1d2f94e-fdef-468e-9e07-2b3cad49a2ad button.colab-df-convert');\n",
              "        buttonEl.style.display =\n",
              "          google.colab.kernel.accessAllowed ? 'block' : 'none';\n",
              "\n",
              "        async function convertToInteractive(key) {\n",
              "          const element = document.querySelector('#df-d1d2f94e-fdef-468e-9e07-2b3cad49a2ad');\n",
              "          const dataTable =\n",
              "            await google.colab.kernel.invokeFunction('convertToInteractive',\n",
              "                                                     [key], {});\n",
              "          if (!dataTable) return;\n",
              "\n",
              "          const docLinkHtml = 'Like what you see? Visit the ' +\n",
              "            '<a target=\"_blank\" href=https://colab.research.google.com/notebooks/data_table.ipynb>data table notebook</a>'\n",
              "            + ' to learn more about interactive tables.';\n",
              "          element.innerHTML = '';\n",
              "          dataTable['output_type'] = 'display_data';\n",
              "          await google.colab.output.renderOutput(dataTable, element);\n",
              "          const docLink = document.createElement('div');\n",
              "          docLink.innerHTML = docLinkHtml;\n",
              "          element.appendChild(docLink);\n",
              "        }\n",
              "      </script>\n",
              "    </div>\n",
              "  </div>\n",
              "  "
            ]
          },
          "metadata": {},
          "execution_count": 65
        }
      ]
    },
    {
      "cell_type": "code",
      "source": [
        "df_test['content'].reset_index(drop=True)[0]"
      ],
      "metadata": {
        "colab": {
          "base_uri": "https://localhost:8080/",
          "height": 192
        },
        "id": "ONvNjMw_G03R",
        "outputId": "cec6e719-75d3-4fb4-c105-93bd4f7415e6"
      },
      "execution_count": null,
      "outputs": [
        {
          "output_type": "execute_result",
          "data": {
            "text/plain": [
              "'أكد باحثون أن الإسهال قد يكون طريقا لانتقال العدوى بفيروس كورونا الجديد، بعد نشر دراسة تشير إلى أن المصابين بالمرض يعانون من اضطرابات بالجهاز الهضمي. وتنتقل العدوى بشكل رئيسي عبر الهواء من خلال رذاذ سعال شخص مصاب، وقال باحثون درسوا الحالات الأولى إنهم ركزوا في البداية على العوارض التنفسية، وربما يكونون قد أهملوا العوارض المرتبطة بالجهاز الهضمي. وأفاد مقال لباحثين صينيين نشر في مجلة الجمعية الطبية الأميركية (جاما) أمس الجمعة، بأن 14 من أصل 138 مريضا جرت دراسة حالتهم في مستشفى بووهان، أصيبوا بإسهال وغثيان قبل يوم أو يومين من ظهور الحمى والاضطرابات التنفسية. وعانى أول أميركي شخصت إصابته بالمرض كذلك من إسهال ليومين، واكتشف الفيروس لاحقا في برازه. ووثقت مجلة \"ذا لانسيت\" الطبية أيضا حالات مماثلة في الصين، لكنها غير منتشرة كثيرا. وقال الأستاذ في جامعة ساوثامبتون ويليام كيفيل -في تعليق لمجلة \"ميديا سنتر\" بالمملكة المتحدة- \"من المهم الإشارة إلى أنه قد أبلغ عن العثور على فيروس كورونا المستجد في براز مرضى يعانون من عوارض معوية غير عادية، على غرار سارس الذي عثر عليه في البول، مما يشير إلى أن الفيروس يمكن أن ينتقل أيضا عبر البراز\". السارسولا يشكل هذا الاحتمال مفاجأة بالنسبة للعلماء، لأن كورونا ينتمي لنفس عائلة الفيروس المسبب لمرض السارس. وقد انتقلت عدوى سارس عن طريق البراز إلى مئات الأشخاص في مجمع سكني في هونغ كونغ عام 2003. وانتشر الفيروس حينها عن طريق البخار الساخن الخارج من غرف الاستحمام الذي وصل إلى عدة شقق عبر الهواء. وبناء على الأبحاث \"يمكن أن تنتقل عدوى فيروس كورونا المستجد (...) عبر البراز\"، كما أفاد المهندس البيولوجي في جامعة كاليفورينا جياو لياو، وأضاف لفرانس برس \"لكن لا نعرف بعد كم من الوقت يعيش هذا الفيروس خارج الجسم (...) ودرجات الحرارة التي تؤثر فيه\". وقد يشكل هذا الاكتشاف تحديا جديدا لمكافحة الفيروس، لكن قد يكون مشكلة إضافية في المستشفيات التي قد تتحول إلى \"مراكز تضخيم\" للأوبئة، كما يرى عالم الأوبئة في جامعة تورونتو ديفيد فيسمان. من جهته، حذر بنجامين نومان الخبير في علم الفيروسات بجامعة \"تكساس أي آند إم-تكساركانا\" بالولايات المتحدة، من أن \"رذاذ السعال ولمس الأسطح الملوثة ثم فرك العينين والأنف أو الفم\"، تبقى المصدر الرئيسي لانتقال العدوى، بحسب البيانات المتوفرة حاليا. وأعلنت السلطات الصحية الصينية اليوم السبت أن فيروس كورونا أصاب أكثر من 34 ألفا و500 شخص في الصين القارية (خارج هونغ كونغ وماكاو)، توفي منهم 722 شخصا. ويشكل هذا العدد الجديد زيادة قدرها 86 حالة وفاة جديدة خلال 24 ساعة، في أكبر حصيلة يومية حتى الآن.'"
            ],
            "application/vnd.google.colaboratory.intrinsic+json": {
              "type": "string"
            }
          },
          "metadata": {},
          "execution_count": 68
        }
      ]
    },
    {
      "cell_type": "code",
      "source": [
        ""
      ],
      "metadata": {
        "id": "A2IMPu0AH2I9"
      },
      "execution_count": null,
      "outputs": []
    }
  ]
}